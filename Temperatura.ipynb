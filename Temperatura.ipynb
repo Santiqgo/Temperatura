{
 "cells": [
  {
   "cell_type": "code",
   "execution_count": 3,
   "metadata": {},
   "outputs": [],
   "source": [
    "import matplotlib.pyplot as plt\n",
    "import numpy as np"
   ]
  },
  {
   "cell_type": "markdown",
   "metadata": {},
   "source": [
    "1)De acuerdo con Zemansky y Ditmann (M.W. Zemansky and R.H. Dittman, Heat and\n",
    "Thermodinamics, MacGraw Hill, Boston, USA, Seventh edition, 1997), la resistencia R’ de un\n",
    "resistor de carbón particular obedece la ecuación: $\\sqrt{\\frac{logR}{T}}= a + b(logR)$, donde a = -1.16 y b =0.675. Realice una gráfica de la temperatura T contra R’, en el rango de resistencias entre 1000 $\\Omega$ y\n",
    "30000 $\\Omega$. ¿A qué temperatura le corresponde la resistencia de 2500 $\\Omega$?."
   ]
  },
  {
   "cell_type": "markdown",
   "metadata": {},
   "source": [
    "$\\sqrt{\\frac{logR}{T}}= a + b(logR)$\n",
    "\n",
    "\n",
    "$\\frac{logR}{T}=(a + b(logR))^{2}$\n",
    "\n",
    "\n",
    "$T=\\frac{logR}{(a + b(logR))^{2}}$"
   ]
  },
  {
   "cell_type": "code",
   "execution_count": 17,
   "metadata": {},
   "outputs": [],
   "source": [
    "a=-1.16\n",
    "b=0.675\n",
    "\n",
    "def F(x):\n",
    "    T=(np.log(x))/((a+b*(np.log(x)))**2)\n",
    "    return T\n",
    "R=np.linspace(1000,30000,1000)\n",
    "T=F(R)"
   ]
  },
  {
   "cell_type": "code",
   "execution_count": 20,
   "metadata": {},
   "outputs": [
    {
     "data": {
      "image/png": "[encoded data removed]",
      "text/plain": [
       "<Figure size 432x288 with 1 Axes>"
      ]
     },
     "metadata": {
      "needs_background": "light"
     },
     "output_type": "display_data"
    },
    {
     "name": "stdout",
     "output_type": "stream",
     "text": [
      "0.46065678025217854\n"
     ]
    }
   ],
   "source": [
    "plt.plot(T,R)\n",
    "plt.show()\n",
    "\n",
    "print (F(2500))"
   ]
  },
  {
   "cell_type": "markdown",
   "metadata": {},
   "source": [
    "Escriba un programa en Python que permita hacer conversiones entre las distintas escalas de\n",
    "temperatura: Celcius, Kelvin, Farenheit y Rankine. El punto de ebullición normal del agua es\n",
    "99.974 $^{0}C$ y el punto triple del agua es 273.16 K. Utilizando el programa elaborado, determine los\n",
    "valores de las temperaturas en las otras escalas, considerando solamente 5 cifras significativas."
   ]
  },
  {
   "cell_type": "code",
   "execution_count": 47,
   "metadata": {},
   "outputs": [
    {
     "name": "stdout",
     "output_type": "stream",
     "text": [
      "1 Celcius\n",
      "2 Kelvin\n",
      "3 Farenheit\n",
      "4 Rankine\n",
      "Ingrese la escala donde esta 12\n",
      "Ingrese la escala donde esta 2\n",
      "Ingrese la temperatura en la escala elegida32\n",
      "La temperatura en Celcius es:  -241.14999999999998\n",
      "La temperatura en Farenheit es:  -402.07\n",
      "La temperatura en Rankine es:  57.60000000000002\n",
      "La temperatura de ebullicion del agua en Kelvin es:  373.12399999999997\n",
      "La temperatura de ebullicion del agua  en Farenheit es:  211.9532\n",
      "La temperatura de ebullicion del agua  en Rankine es:  671.6232\n",
      "La temperatura del punto triple del agua en Celcius es:  0.010000000000047748\n",
      "La temperatura del punto triple del agua  en Farenheit es:  32.018000000000086\n",
      "La temperatura del punto triple del agua  en Rankine es:  491.6880000000001\n"
     ]
    }
   ],
   "source": [
    "print (\"1 Celcius\")\n",
    "print (\"2 Kelvin\")\n",
    "print (\"3 Farenheit\")\n",
    "print (\"4 Rankine\")\n",
    "\n",
    "Temperaturae=99.974\n",
    "Temperaturat=273.16\n",
    "\n",
    "Escala=int(input(\"Ingrese la escala donde esta \"))\n",
    "\n",
    "while Escala <1 or Escala > 4:\n",
    "    Escala=int(input(\"Ingrese la escala donde esta \"))\n",
    "\n",
    "Temperatura=int(input(\"Ingrese la temperatura en la escala elegida\"))\n",
    "    \n",
    "if Escala==1:\n",
    "    print(\"La temperatura en Kelvin es: \",Temperatura + 273.15)\n",
    "    print(\"La temperatura en Farenheit es: \",Temperatura*(9/5)+32)\n",
    "    print(\"La temperatura en Rankine es: \",Temperatura*(9/5)+491.67)\n",
    "        \n",
    "elif Escala==2:\n",
    "    print(\"La temperatura en Celcius es: \",Temperatura - 273.15)\n",
    "    print(\"La temperatura en Farenheit es: \",(Temperatura- 273.15)*(9/5)+32)\n",
    "    print(\"La temperatura en Rankine es: \",(Temperatura- 273.15)*(9/5)+491.67)\n",
    "elif Escala==3:\n",
    "    print(\"La temperatura en Celcius es: \",(Temperatura - 32)*(5/9))\n",
    "    print(\"La temperatura en Kelvin es: \",(Temperatura- 32)*(5/9)+273.15)\n",
    "    print(\"La temperatura en Rankine es: \",Temperatura + 491.67)\n",
    "else:\n",
    "    print(\"La temperatura en Celcius es: \",(Temperatura - 491.67)*(5/9))\n",
    "    print(\"La temperatura en Kelvin es: \",Temperatura*(5/9))\n",
    "    print(\"La temperatura en Farenheit es: \",Temperatura - 491.67)\n",
    "    \n",
    "print(\"La temperatura de ebullicion del agua en Kelvin es: \",Temperaturae + 273.15)\n",
    "print(\"La temperatura de ebullicion del agua  en Farenheit es: \",Temperaturae*(9/5)+32)\n",
    "print(\"La temperatura de ebullicion del agua  en Rankine es: \",Temperaturae*(9/5)+491.67)\n",
    "\n",
    "print(\"La temperatura del punto triple del agua en Celcius es: \",Temperaturat - 273.15)\n",
    "print(\"La temperatura del punto triple del agua  en Farenheit es: \",(Temperaturat- 273.15)*(9/5)+32)\n",
    "print(\"La temperatura del punto triple del agua  en Rankine es: \",(Temperaturat- 273.15)*(9/5)+491.67)\n"
   ]
  },
  {
   "cell_type": "markdown",
   "metadata": {},
   "source": [
    "De acuerdo con Harkins (W.D. Harkins: The Physical Chemistry of Surface Films, Reinhold, New\n",
    "York, 1952, p.76), la tensión superficial del agua,$\\gamma$, en dinas por centímetro está dada por la\n",
    "ecuación empírica: $\\gamma = 75.796 − 0.145T − 0.00024T^{2}$ , donde la temperatura T está dada en\n",
    "Celcius. Calcule la ecuación que expresa el cambio de la tensión superficial con la temperatura, $\\frac{d\\gamma}{dT}$ en función de la temperatura. Realice diagramas de $\\gamma$ contra T y de $\\frac{d\\gamma}{dT}$ contra T en un rango de temperaturas desde 1 $^{0}C$ hasta 99 $^{0}C$."
   ]
  },
  {
   "cell_type": "markdown",
   "metadata": {},
   "source": [
    "$\\gamma = 75.796 − 0.145T − 0.00024T^{2}$\n",
    "\n",
    "$\\frac{d\\gamma}{dT}=-0.145T − 2*0.00024T$"
   ]
  },
  {
   "cell_type": "code",
   "execution_count": 49,
   "metadata": {},
   "outputs": [
    {
     "data": {
      "image/png": "[encoded data removed]",
      "text/plain": [
       "<Figure size 432x288 with 1 Axes>"
      ]
     },
     "metadata": {
      "needs_background": "light"
     },
     "output_type": "display_data"
    },
    {
     "data": {
      "image/png": "[encoded data removed]",
      "text/plain": [
       "<Figure size 432x288 with 1 Axes>"
      ]
     },
     "metadata": {
      "needs_background": "light"
     },
     "output_type": "display_data"
    }
   ],
   "source": [
    "def f(x):\n",
    "    return 75.796-(0.145*x)-(0.00025*(x)**2)\n",
    "def df(x):\n",
    "    return -(0.145)-(0.00025*(x)*2)\n",
    "Te=np.linspace(1,99,200)\n",
    "G=f(Te)\n",
    "dG=df(Te)\n",
    "\n",
    "plt.plot(Te,G)\n",
    "plt.show()\n",
    "\n",
    "plt.plot(Te,dG)\n",
    "plt.show()\n"
   ]
  },
  {
   "cell_type": "code",
   "execution_count": null,
   "metadata": {},
   "outputs": [],
   "source": []
  }
 ],
 "metadata": {
  "kernelspec": {
   "display_name": "Python 3",
   "language": "python",
   "name": "python3"
  },
  "language_info": {
   "codemirror_mode": {
    "name": "ipython",
    "version": 3
   },
   "file_extension": ".py",
   "mimetype": "text/x-python",
   "name": "python",
   "nbconvert_exporter": "python",
   "pygments_lexer": "ipython3",
   "version": "3.6.7"
  }
 },
 "nbformat": 4,
 "nbformat_minor": 2
}
